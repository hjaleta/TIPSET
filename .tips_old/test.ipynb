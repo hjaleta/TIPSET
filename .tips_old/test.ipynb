{
 "cells": [
  {
   "cell_type": "code",
   "execution_count": 2,
   "metadata": {},
   "outputs": [],
   "source": [
    "import pandas as pd"
   ]
  },
  {
   "cell_type": "code",
   "execution_count": 10,
   "metadata": {},
   "outputs": [],
   "source": [
    "s_A = \"Data/VM2022/L16-22A.csv\"\n",
    "df_A = pd.read_csv(s_A)\n",
    "\n",
    "df_A.sort_values(by = [\"Vad heter du? (För- och efternamn)\"], inplace = True)\n",
    "# df_A.head()\n",
    "\n",
    "s_B = \"Data/VM2022/L16-22B.csv\"\n",
    "df_B = pd.read_csv(s_B)\n",
    "df_B.sort_values(by = [\"Vad heter du? (För- och efternamn)\"], inplace = True)\n",
    "# df_B.head()\n",
    "\n",
    "L16_df = pd.concat([df_A, df_B], axis=1)\n",
    "L16_df.to_csv(\"Data/VM2022/L16-22_test.csv\", index=False)\n",
    "# df_A\n",
    "\n",
    "# one_row = df.iloc[0:1]\n",
    "# print(type(one_row))\n",
    "# print(one_row)\n",
    "# one_row2 = df2.iloc[0:1].filter(regex = r\"\\d[a-c]\\.\")\n",
    "\n",
    "# facit_df = pd.concat([one_row, one_row2], axis=1)\n",
    "\n",
    "# facit_df.to_csv(\"Data/VM2022/L16-22_facit.csv\", index=False)\n",
    "\n",
    "# # new_df = df.drop(index = [1])\n",
    "# # new_df = df.drop(columns = [\"Unnamed: 0\"])\n",
    "# # new_df.head()\n",
    "# # new_df.to_csv(\"Data/VM2022/Gruppspelet_tabeller_facit_test.csv\")\n",
    "# # new_df_test = pd.read_csv(\"Data/VM2022/Gruppspelet_tabeller_facit_test.csv\")\n",
    "# # new_df_test.head()"
   ]
  },
  {
   "cell_type": "code",
   "execution_count": 13,
   "metadata": {},
   "outputs": [
    {
     "name": "stdout",
     "output_type": "stream",
     "text": [
      "  Vad heter du? (För- och efternamn) Vad vill du ha för smeknamn i tipset?\n",
      "0                              Facit                                   FCT\n"
     ]
    }
   ],
   "source": [
    "# print(df.loc[0])\n",
    "# print(df.filter(like=\"grupp\").head())\n",
    "namn_df = df.filter(like=\"Vad\")\n",
    "print(namn_df)"
   ]
  },
  {
   "cell_type": "code",
   "execution_count": 10,
   "metadata": {},
   "outputs": [],
   "source": [
    "grupp_tabell_df = pd.concat([ namn_df, df.filter(like=\"grupp\")], axis=1) \n",
    "\n",
    "\n",
    "\n",
    "# print(grupp_slut_df)\n",
    "\n",
    "# grupp_match_df = df.filter(regex = r\"^((?!\\d).)*$\")\n",
    "grupp_tabell_df.to_csv(\"Data/VM2022/Gruppspelet_tabell_facit.csv\")\n",
    "# print(df.axes)\n",
    "# print(df.axes[0][2:])"
   ]
  },
  {
   "cell_type": "code",
   "execution_count": 11,
   "metadata": {},
   "outputs": [],
   "source": [
    "grupp_match_df = df.filter(regex = r\"^((?!\\d).)*$\")\n",
    "grupp_match_df.to_csv(\"Data/VM2022/Gruppspelet_matcher_facit.csv\")\n"
   ]
  },
  {
   "cell_type": "code",
   "execution_count": null,
   "metadata": {},
   "outputs": [],
   "source": [
    "\n",
    "\n",
    "\n",
    "\n",
    "group_games_df = df[df[\"Matchtyp\"] == \"Gruppspel\"]\n",
    "\n",
    "# for i in df.index:\n",
    "#     print(df.loc[i, :])\n",
    "#     print(i)\n",
    "# print(df.loc[1])\n",
    "\n",
    "# print(df.columns)\n",
    "\n",
    "# print(df.loc[8].axes)\n",
    "\n",
    "group_games = []\n",
    "group_row = df.loc[9]\n",
    "# print(group_row.axes)\n",
    "game_columns = group_row.axes[0][3:3+2*48]\n",
    "# print(len(game_columns))\n",
    "for i in range(0, len(game_columns), 2):\n",
    "    # print(game_columns[i], game_columns[i+1])\n",
    "    team1 = game_columns[i].split(\"[\")[1][:-1]\n",
    "    team1_goals = group_row[game_columns[i]]\n",
    "    team2 = game_columns[i+1].split(\"[\")[1][:-1]\n",
    "    team2_goals = group_row[game_columns[i+1]]\n",
    "\n",
    "\n",
    "\n",
    "\n",
    "    # team1 = group_row[game_columns[i]].split()[5][1:-1]\n",
    "    # print(team1, team1_goals, team2, team2_goals)\n",
    "    # team2 = group_row[game_columns[i+1]].split()[5][1:-1]\n",
    "# df.head()\n",
    "# for col in df.columns:\n",
    "#     print(col)\n",
    "\n",
    "group_columns = group_row.axes[0][99:]\n",
    "# print(group_columns)\n",
    "group_dict = {}\n",
    "for i in range(0, len(group_columns), 4):\n",
    "    # group = group_columns[i].split(\"[\")[1][:-1]\n",
    "\n",
    "    group_letter = group_columns[i].split()[3]\n",
    "\n",
    "    team1 = group_columns[i].split(\"[\")[1][:-1]\n",
    "    team1_pos = group_row[group_columns[i]]\n",
    "    team2 = group_columns[i+1].split(\"[\")[1][:-1]\n",
    "    team2_pos = group_row[group_columns[i+1]]\n",
    "    team3 = group_columns[i+2].split(\"[\")[1][:-1]\n",
    "    team3_pos = group_row[group_columns[i+2]]\n",
    "    team4 = group_columns[i+3].split(\"[\")[1][:-1]\n",
    "    team4_pos = group_row[group_columns[i+3]]\n",
    "\n",
    "    prediction_tuples = [(team1, team1_pos), (team2, team2_pos), (team3, team3_pos), (team4, team4_pos)]\n",
    "    prediction_tuples.sort(key=lambda x: x[1])\n",
    "    team_order = [team for team, pos in prediction_tuples]\n",
    "    group_dict[group_letter] = team_order\n",
    "    # print(team_order)\n",
    "\n",
    "    # print(team1, team2, team3, team4)\n",
    "    # print(team1_pos, team2_pos, team3_pos, team4_pos)\n",
    "print(group_dict)\n"
   ]
  }
 ],
 "metadata": {
  "kernelspec": {
   "display_name": "Python 3.8.10 64-bit",
   "language": "python",
   "name": "python3"
  },
  "language_info": {
   "codemirror_mode": {
    "name": "ipython",
    "version": 3
   },
   "file_extension": ".py",
   "mimetype": "text/x-python",
   "name": "python",
   "nbconvert_exporter": "python",
   "pygments_lexer": "ipython3",
   "version": "3.8.10"
  },
  "orig_nbformat": 4,
  "vscode": {
   "interpreter": {
    "hash": "916dbcbb3f70747c44a77c7bcd40155683ae19c65e1c03b4aa3499c5328201f1"
   }
  }
 },
 "nbformat": 4,
 "nbformat_minor": 2
}
